{
 "cells": [
  {
   "cell_type": "markdown",
   "metadata": {},
   "source": [
    "# KBO 타자 OPS 예측\n",
    "- 우승 비결 : \n",
    "    - 도메인 지식에 데이터 분석 지식을 결합한 것\n",
    "    - 가능한 단순한 모델을 제안 : 데이터 수는 적지만 feature가 많이 존재, 과적합을 피하기 위해 단순화한 정보들로 머신러닝 모델 진행"
   ]
  },
  {
   "cell_type": "markdown",
   "metadata": {},
   "source": [
    "## 1. 문제 정의\n",
    "### 1-1. 대회 소개\n",
    "- 문제 : 데이터를 바탕으로 2019년도 타자들의 상반기 OPS 예측\n",
    "- 문제 유형 : Time-Series, Regression\n",
    "- 평가 척도 : WRMSE\n",
    "- 데이터 기간 : 2010년부터 2018년까지\n",
    "- 데이터 수집 기준 : 1군 엔트리에 1번 이상 포함되었던 타자들의 역대 정규시즌, 시범경기 성적 정보"
   ]
  },
  {
   "cell_type": "markdown",
   "metadata": {},
   "source": [
    "### 1-2. 평가 척도\n",
    "- WRMSE : (((i번째 선수 실제값 - i번째 선수 예측값)*i번째 선수 가중치)/모든 가중치의 합)의 합, sigma(sqrt((yi-yhati)^2 * wi/sigma(wi)))\n",
    "- 오차가 작을수록 우수한 성능을 보임\n",
    "- 가중치 : 타수 기준, 타수가 없는 선수는 가중치 0\n",
    "- 경기를 많이 뛰는 선수를 잘 예측할 수록 WRMSE를 낮추는데 좋음"
   ]
  },
  {
   "cell_type": "markdown",
   "metadata": {},
   "source": [
    "### 1-3. 도메인 조사\n",
    "- 정규시즌 : 프로 스포츠 경기\n",
    "- 시범경기 : 정규시즌 시작 전에 열리는 비공식 경기\n",
    "- 상반기의 기준 : 2019년은 7월 18일까지로 따짐\n",
    "- OPS : On base Plus Slugging, 타자들의 종합 성적 기준, OBP(출루율)+SLG(장타율)"
   ]
  },
  {
   "cell_type": "markdown",
   "metadata": {},
   "source": [
    "### 1-4. 문제 해결을 위한 접근 방식\n",
    "- 데이터 수(행)에 비해 설명 변수(열)이 많음 -> 가능한 한 단순한 모델을 만들어 예측, 필요없는 데이터 삭제\n",
    "- 분석 순서 : 데이터 탐색 -> 분석 전략 수립, 데이터 전처리 -> 모델링 -> 추가적인 성능 향상 방법"
   ]
  },
  {
   "cell_type": "code",
   "execution_count": 4,
   "metadata": {},
   "outputs": [],
   "source": [
    "# import library\n",
    "import numpy as np\n",
    "import pandas as pd\n",
    "import matplotlib as mlt\n",
    "import matplotlib.pyplot as plt\n",
    "from matplotlib import font_manager, rc\n",
    "import seaborn as sns\n",
    "import sklearn\n",
    "import platform"
   ]
  },
  {
   "cell_type": "code",
   "execution_count": null,
   "metadata": {},
   "outputs": [],
   "source": [
    "# "
   ]
  }
 ],
 "metadata": {
  "interpreter": {
   "hash": "728fef224954c4bfd755a3a38a064757acac1c42f7f875c5081425f931adc262"
  },
  "kernelspec": {
   "display_name": "Python 3.10.1 64-bit (system)",
   "language": "python",
   "name": "python3"
  },
  "language_info": {
   "codemirror_mode": {
    "name": "ipython",
    "version": 3
   },
   "file_extension": ".py",
   "mimetype": "text/x-python",
   "name": "python",
   "nbconvert_exporter": "python",
   "pygments_lexer": "ipython3",
   "version": "3.10.1"
  },
  "orig_nbformat": 4
 },
 "nbformat": 4,
 "nbformat_minor": 2
}
